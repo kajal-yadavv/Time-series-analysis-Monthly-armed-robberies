{
 "cells": [
  {
   "cell_type": "code",
   "execution_count": 1,
   "id": "89b54106",
   "metadata": {},
   "outputs": [],
   "source": [
    "import pandas as pd"
   ]
  },
  {
   "cell_type": "code",
   "execution_count": 2,
   "id": "f9026a97",
   "metadata": {},
   "outputs": [],
   "source": [
    "series = pd.read_csv(r'robberies.csv', header = 0, index_col = 0, parse_dates = True, squeeze = True)"
   ]
  },
  {
   "cell_type": "code",
   "execution_count": 3,
   "id": "6fa1115f",
   "metadata": {},
   "outputs": [],
   "source": [
    "split_point = len(series) - 12"
   ]
  },
  {
   "cell_type": "markdown",
   "id": "45138ab7",
   "metadata": {},
   "source": [
    "Dividing the time series data into training dataset and validation dataset. \n",
    "* This validtaion dataset will be used to evaluate the model's performance after finalizing the model.\n",
    "\n",
    "Validation Data set is 10% of the training dataset"
   ]
  },
  {
   "cell_type": "code",
   "execution_count": 4,
   "id": "9d8e68fc",
   "metadata": {},
   "outputs": [],
   "source": [
    "dataset, validation = series[0:split_point], series[split_point:]"
   ]
  },
  {
   "cell_type": "code",
   "execution_count": 5,
   "id": "468424ed",
   "metadata": {},
   "outputs": [
    {
     "name": "stdout",
     "output_type": "stream",
     "text": [
      "Length of training dataset:  106\n",
      "Length of validation dataset: 12\n"
     ]
    }
   ],
   "source": [
    "print(\"Length of training dataset: \", len(dataset))\n",
    "print(\"Length of validation dataset:\", len(validation))"
   ]
  },
  {
   "cell_type": "code",
   "execution_count": 6,
   "id": "c49dd184",
   "metadata": {},
   "outputs": [],
   "source": [
    "dataset.to_csv('dataset.csv', header=False)"
   ]
  },
  {
   "cell_type": "code",
   "execution_count": 7,
   "id": "45dca5e5",
   "metadata": {},
   "outputs": [],
   "source": [
    "validation.to_csv('validation.csv', header = False)"
   ]
  },
  {
   "cell_type": "markdown",
   "id": "9343275b",
   "metadata": {},
   "source": [
    "**Model evaluation is performed in 2 stages.** \n",
    "\n",
    "   1. Performance Measure : RMSE will be considerd for the performance measure. Any transformation in the data should be reverse before calculating RMSE. This will give more weight to prediction that are grossly wrong and will have same data as the original data. \n",
    "  \n",
    "   2. Test strategy: Model will be evaluated using walk forward validation. How  it works?\n",
    "\n",
    "      a. First 50% of dataset will be used to train the model.\n",
    "      \n",
    "      b. remaining 50 % to test the model. \n",
    "     \n",
    "      c. actual observation fro test will be added to training for next iteratin\n",
    "      \n",
    "   3. The orediction during the iteration of the test will be evaluated using RMSE\n",
    "   \n",
    " _Note: Convert the loaded data into float in case the data still has some string and integer data type_"
   ]
  },
  {
   "cell_type": "code",
   "execution_count": 8,
   "id": "aac7af3c",
   "metadata": {},
   "outputs": [],
   "source": [
    "from sklearn.metrics import mean_squared_error\n",
    "from math import sqrt"
   ]
  },
  {
   "cell_type": "code",
   "execution_count": 13,
   "id": "67525624",
   "metadata": {},
   "outputs": [],
   "source": [
    "#  Prepare data\n",
    "from sklearn.model_selection import train_test_split\n",
    "\n",
    "X = series.values\n",
    "X = X.astype('float32')\n",
    "\n",
    "train_size = int(len(X) * 0.50)  # dividing the 50% data into training data set and rest into testing dataset. \n",
    "train, test = train_test_split(X, test_size = 0.5, shuffle = True)\n"
   ]
  },
  {
   "cell_type": "markdown",
   "id": "c50095ef",
   "metadata": {},
   "source": [
    "The baseline prediction for time series forecasting is called the naive forecast, or\n",
    "persistence :This is where the observation from the previous time step is used as the prediction\n",
    "for the observation at the next time step.\n",
    "\n"
   ]
  },
  {
   "cell_type": "code",
   "execution_count": 14,
   "id": "5d1ad9b6",
   "metadata": {},
   "outputs": [
    {
     "name": "stdout",
     "output_type": "stream",
     "text": [
      "Predicted=  312.0\n",
      "expected=  47.0\n",
      "Predicted=  312.0\n",
      "expected=  391.0\n",
      "Predicted=  312.0\n",
      "expected=  452.0\n",
      "Predicted=  312.0\n",
      "expected=  236.0\n",
      "Predicted=  312.0\n",
      "expected=  59.0\n",
      "Predicted=  312.0\n",
      "expected=  372.0\n",
      "Predicted=  312.0\n",
      "expected=  273.0\n",
      "Predicted=  312.0\n",
      "expected=  241.0\n",
      "Predicted=  312.0\n",
      "expected=  328.0\n",
      "Predicted=  312.0\n",
      "expected=  136.0\n",
      "Predicted=  312.0\n",
      "expected=  40.0\n",
      "Predicted=  312.0\n",
      "expected=  158.0\n",
      "Predicted=  312.0\n",
      "expected=  398.0\n",
      "Predicted=  312.0\n",
      "expected=  364.0\n",
      "Predicted=  312.0\n",
      "expected=  50.0\n",
      "Predicted=  312.0\n",
      "expected=  63.0\n",
      "Predicted=  312.0\n",
      "expected=  460.0\n",
      "Predicted=  312.0\n",
      "expected=  149.0\n",
      "Predicted=  312.0\n",
      "expected=  243.0\n",
      "Predicted=  312.0\n",
      "expected=  298.0\n",
      "Predicted=  312.0\n",
      "expected=  32.0\n",
      "Predicted=  312.0\n",
      "expected=  39.0\n",
      "Predicted=  312.0\n",
      "expected=  178.0\n",
      "Predicted=  312.0\n",
      "expected=  316.0\n",
      "Predicted=  312.0\n",
      "expected=  190.0\n",
      "Predicted=  312.0\n",
      "expected=  55.0\n",
      "Predicted=  312.0\n",
      "expected=  97.0\n",
      "Predicted=  312.0\n",
      "expected=  285.0\n",
      "Predicted=  312.0\n",
      "expected=  355.0\n",
      "Predicted=  312.0\n",
      "expected=  174.0\n",
      "Predicted=  312.0\n",
      "expected=  279.0\n",
      "Predicted=  312.0\n",
      "expected=  108.0\n",
      "Predicted=  312.0\n",
      "expected=  308.0\n",
      "Predicted=  312.0\n",
      "expected=  394.0\n",
      "Predicted=  312.0\n",
      "expected=  339.0\n",
      "Predicted=  312.0\n",
      "expected=  257.0\n",
      "Predicted=  312.0\n",
      "expected=  500.0\n",
      "Predicted=  312.0\n",
      "expected=  401.0\n",
      "Predicted=  312.0\n",
      "expected=  293.0\n",
      "Predicted=  312.0\n",
      "expected=  302.0\n",
      "Predicted=  312.0\n",
      "expected=  35.0\n",
      "Predicted=  312.0\n",
      "expected=  224.0\n",
      "Predicted=  312.0\n",
      "expected=  149.0\n",
      "Predicted=  312.0\n",
      "expected=  451.0\n",
      "Predicted=  312.0\n",
      "expected=  78.0\n",
      "Predicted=  312.0\n",
      "expected=  52.0\n",
      "Predicted=  312.0\n",
      "expected=  184.0\n",
      "Predicted=  312.0\n",
      "expected=  487.0\n",
      "Predicted=  312.0\n",
      "expected=  35.0\n",
      "Predicted=  312.0\n",
      "expected=  90.0\n",
      "Predicted=  312.0\n",
      "expected=  276.0\n",
      "Predicted=  312.0\n",
      "expected=  49.0\n",
      "Predicted=  312.0\n",
      "expected=  140.0\n",
      "Predicted=  312.0\n",
      "expected=  353.0\n",
      "Predicted=  312.0\n",
      "expected=  354.0\n",
      "Predicted=  312.0\n",
      "expected=  39.0\n",
      "Predicted=  312.0\n",
      "expected=  109.0\n",
      "Predicted=  312.0\n",
      "expected=  238.0\n",
      "Predicted=  312.0\n",
      "expected=  155.0\n"
     ]
    }
   ],
   "source": [
    "\n",
    "# walk-forward validation\n",
    "history = [x for x in train]\n",
    "\n",
    "predictions = list()\n",
    "for i in range(len(test)):\n",
    "    yhat = history[-1]\n",
    "    predictions.append(yhat)\n",
    "    \n",
    "    obs = test[i]\n",
    "    history.append(yhat)\n",
    "    print('Predicted= ', yhat)\n",
    "    print('expected= ', obs)\n",
    "\n"
   ]
  },
  {
   "cell_type": "code",
   "execution_count": 15,
   "id": "04b86f49",
   "metadata": {},
   "outputs": [
    {
     "name": "stdout",
     "output_type": "stream",
     "text": [
      "rmse 164.2045040205201\n"
     ]
    }
   ],
   "source": [
    "rmse = sqrt(mean_squared_error(test, predictions))\n",
    "\n",
    "print('rmse', rmse)\n",
    "\n"
   ]
  },
  {
   "cell_type": "markdown",
   "id": "b1fbb9cd",
   "metadata": {},
   "source": [
    "**Summary statistics**"
   ]
  },
  {
   "cell_type": "code",
   "execution_count": 19,
   "id": "903d852e",
   "metadata": {},
   "outputs": [
    {
     "data": {
      "text/plain": [
       "count    118.000000\n",
       "mean     196.288136\n",
       "std      128.043602\n",
       "min       29.000000\n",
       "25%       85.500000\n",
       "50%      166.000000\n",
       "75%      296.750000\n",
       "max      500.000000\n",
       "Name: Robberies, dtype: float64"
      ]
     },
     "execution_count": 19,
     "metadata": {},
     "output_type": "execute_result"
    }
   ],
   "source": [
    "series.describe()"
   ]
  },
  {
   "cell_type": "code",
   "execution_count": 20,
   "id": "9dabb645",
   "metadata": {},
   "outputs": [
    {
     "data": {
      "image/png": "[encoded data removed]",
      "text/plain": [
       "<Figure size 432x288 with 1 Axes>"
      ]
     },
     "metadata": {
      "needs_background": "light"
     },
     "output_type": "display_data"
    }
   ],
   "source": [
    "from matplotlib import pyplot\n",
    "series.plot()\n",
    "pyplot.show()"
   ]
  },
  {
   "cell_type": "markdown",
   "id": "94e31918",
   "metadata": {},
   "source": [
    "Observations: \n",
    "* There is an incresing trend in the data over time\n",
    "* There is no outliers present\n",
    "* fluctuations can be observed within the data year on year\n",
    "* The data is not stationary\n",
    "\n",
    "We can use differencing to make series stationary for modelling. We may need 2 level of differnencing if there is a growth teend in the fluctuation in later years. "
   ]
  },
  {
   "cell_type": "markdown",
   "id": "6edc73f8",
   "metadata": {},
   "source": [
    "---------------------------------------------------------------------------------------------------\n",
    "density plot\n",
    "creates a histogram and density plot of the observations without any temporal structure."
   ]
  },
  {
   "cell_type": "code",
   "execution_count": 21,
   "id": "cb341060",
   "metadata": {},
   "outputs": [
    {
     "data": {
      "image/png": "[encoded data removed]",
      "text/plain": [
       "<Figure size 432x288 with 2 Axes>"
      ]
     },
     "metadata": {
      "needs_background": "light"
     },
     "output_type": "display_data"
    }
   ],
   "source": [
    "pyplot.figure(1)\n",
    "pyplot.subplot(211)\n",
    "series.hist()\n",
    "pyplot.subplot(212)\n",
    "series.plot(kind = 'kde')\n",
    "pyplot.show()"
   ]
  },
  {
   "cell_type": "markdown",
   "id": "65922561",
   "metadata": {},
   "source": [
    "* the distribution is not guassian\n",
    "* it is left shufted, might be double guassian or exponential"
   ]
  },
  {
   "cell_type": "markdown",
   "id": "760901c2",
   "metadata": {},
   "source": [
    "------------------------------------------------------------------------------------------------\n",
    "Box and whisker plots\n",
    "grouping the observation by year and creates one box and whisker plot for each year of observation. \n",
    "(last year 1973 contains only 10 months, that we can ignore for comparison with other years)"
   ]
  },
  {
   "cell_type": "code",
   "execution_count": 22,
   "id": "a4d24e90",
   "metadata": {},
   "outputs": [],
   "source": [
    "from pandas import Grouper\n",
    "groups = series['1966':'1973'].groupby(Grouper(freq ='A'))"
   ]
  },
  {
   "cell_type": "code",
   "execution_count": 23,
   "id": "ef30cc12",
   "metadata": {},
   "outputs": [
    {
     "name": "stdout",
     "output_type": "stream",
     "text": [
      "Month\n",
      "1966-01-01     41\n",
      "1966-02-01     39\n",
      "1966-03-01     50\n",
      "1966-04-01     40\n",
      "1966-05-01     43\n",
      "             ... \n",
      "1975-06-01    316\n",
      "1975-07-01    398\n",
      "1975-08-01    394\n",
      "1975-09-01    431\n",
      "1975-10-01    431\n",
      "Name: Robberies, Length: 118, dtype: int64\n"
     ]
    }
   ],
   "source": [
    "print(series)"
   ]
  },
  {
   "cell_type": "code",
   "execution_count": 25,
   "id": "d67e148f",
   "metadata": {},
   "outputs": [
    {
     "data": {
      "image/png": "[encoded data removed]",
      "text/plain": [
       "<Figure size 432x288 with 1 Axes>"
      ]
     },
     "metadata": {
      "needs_background": "light"
     },
     "output_type": "display_data"
    }
   ],
   "source": [
    "years = pd.DataFrame()\n",
    "for name, group in groups: \n",
    "    years[name.year] = group.values\n",
    "years.boxplot()\n",
    "pyplot.show()"
   ]
  },
  {
   "cell_type": "markdown",
   "id": "a1a7ee16",
   "metadata": {},
   "source": [
    "* Median values for each year are not showing a linear trend\n",
    "* The 2nd quantile is not always lying in between the 1st and 3rd quantile. \n",
    "* the 1st 2 years are significantly different from rest of the years. "
   ]
  },
  {
   "cell_type": "markdown",
   "id": "0373bdc0",
   "metadata": {},
   "source": [
    "----------------------------------------------------------------------------------------------------\n",
    "**ARIMA model**\n",
    "* Developing a manually configured ARIMA model\n",
    "* Using agrid search of ARIMA to find optimized model\n",
    "* Analysis of forecast residual errors to evaluate any bias in model\n",
    "* Explore improvements to model using power transformers\n",
    "\n",
    "-------------------------------------------------------------\n",
    "Non seasonal ARIMA(p,d,q) requires 3 parametrs.\n",
    "* Analysis of  time series assumes the data as stationary. \n",
    "\n",
    "**_But here we are working with non stationary data. Thus we need to make it stationary first by differencing the series and use statiscal test to confirm the result is stationary._**\n"
   ]
  },
  {
   "cell_type": "code",
   "execution_count": 27,
   "id": "b6f449a1",
   "metadata": {},
   "outputs": [],
   "source": [
    "from statsmodels.tsa.stattools import adfuller\n",
    "from pandas import Series\n",
    "\n",
    "#  create a differenced time series\n",
    "\n",
    "def difference(dataset):\n",
    "    diff = list()\n",
    "    for i in range(1, len(dataset)):\n",
    "        value = dataset[i]-dataset[i-1]\n",
    "        diff.append(value)\n",
    "    return Series(diff)"
   ]
  },
  {
   "cell_type": "code",
   "execution_count": 22,
   "id": "af6cc065",
   "metadata": {},
   "outputs": [],
   "source": [
    "X = series.values\n",
    "\n",
    "# difference data\n",
    "stationary = difference(X)\n",
    "stationary.index = series.index[1:]\n",
    "\n",
    "#  check if stationary\n",
    "result = adfuller(stationary)"
   ]
  },
  {
   "cell_type": "code",
   "execution_count": 23,
   "id": "4c3e936e",
   "metadata": {},
   "outputs": [
    {
     "name": "stdout",
     "output_type": "stream",
     "text": [
      "ADF statistics:  -7.4285644750672075\n",
      "p-value:  6.450795412686704e-11\n",
      "Critical values:\n",
      "('1%', -3.4936021509366793)\n",
      "('5%', -2.8892174239808703)\n",
      "('10%', -2.58153320754717)\n"
     ]
    }
   ],
   "source": [
    "print('ADF statistics: ', result[0])\n",
    "print('p-value: ', result[1])\n",
    "print('Critical values:')\n",
    "\n",
    "for key, value in result[4].items():\n",
    "    print((key,value))\n",
    "    \n",
    "stationary.to_csv('stationary.csv', header=False)"
   ]
  },
  {
   "cell_type": "markdown",
   "id": "8dcb8655",
   "metadata": {},
   "source": [
    "**Dicker fuller test:**\n",
    "\n",
    "test statistic value(-3.98) is smaller than the critical value at 5% of -2.893. This means we can reject the null hypothesis i.e. the data is not stationary (Ho). \n",
    "Hence, in turn, it is proved that the time series is stationary or does not have time dependent structure. \n",
    "\n",
    "p-value > 0.05: Fail to reject the null hypothesis (H0), the data has a unit root and is non-stationary.\n",
    " \n",
    "p-value <= 0.05: Reject the null hypothesis (H0), the data does not have a unit root and is stationary.\n",
    "\n",
    "\n",
    "*** This suggests that at least one level of differencing is required. The d parameter in our\n",
    "ARIMA model should at least be a value of 1.\n",
    "\n",
    "The next step is to select the lag values for the Autoregression (AR) and Moving Average (MA) parameters, p and q respectively.We can do this by reviewing Autocorrelation Function (ACF) and Partial Autocorrelation Function (PACF) plots.\n"
   ]
  },
  {
   "cell_type": "markdown",
   "id": "3247342b",
   "metadata": {},
   "source": [
    "---------------------------------------------------------------------------------------------------------------------\n",
    "\n",
    "**How to read ACF and PACF graphs to find p and q model?**\n",
    "\n",
    "Auto regressive model is dependent on the previous values. To finf the order of the AR model, we refer to PACF. \n",
    "\n",
    "ACF and PACF assume stationarity of the underlying time series.. \n",
    "\n"
   ]
  },
  {
   "cell_type": "code",
   "execution_count": 24,
   "id": "d93314d6",
   "metadata": {},
   "outputs": [
    {
     "name": "stderr",
     "output_type": "stream",
     "text": [
      "C:\\Users\\kajal\\Anaconda3\\lib\\site-packages\\statsmodels\\graphics\\tsaplots.py:348: FutureWarning: The default method 'yw' can produce PACF values outside of the [-1,1] interval. After 0.13, the default will change tounadjusted Yule-Walker ('ywm'). You can use this method now by setting method='ywm'.\n",
      "  warnings.warn(\n"
     ]
    },
    {
     "data": {
      "image/png": "[encoded data removed]",
      "text/plain": [
       "<Figure size 432x288 with 2 Axes>"
      ]
     },
     "metadata": {
      "needs_background": "light"
     },
     "output_type": "display_data"
    }
   ],
   "source": [
    "\n",
    "from statsmodels.graphics.tsaplots import plot_acf\n",
    "from statsmodels.graphics.tsaplots import plot_pacf\n",
    "\n",
    "pyplot.figure()\n",
    "pyplot.subplot(211)\n",
    "plot_acf(series, lags=50, ax=pyplot.gca())\n",
    "pyplot.subplot(212)\n",
    "plot_pacf(series, lags=50, ax=pyplot.gca())\n",
    "pyplot.show()"
   ]
  },
  {
   "cell_type": "markdown",
   "id": "cb5c9d9f",
   "metadata": {},
   "source": [
    "Blue area depicts the 95% confidence interval and is an indicator of the significance threshold. \n",
    "\n",
    "The ACF shows a significant lag for 10-11 months.(lags before entering into 95% CI)\n",
    "The PACF shows a significant lag for perhaps 2 months.\n",
    "Both the ACF and PACF show a drop off at the same point, perhaps suggesting a mix of AR and MA.\n",
    "\n",
    "A good starting value of p and q values are 11 and 2"
   ]
  },
  {
   "cell_type": "code",
   "execution_count": 25,
   "id": "9abde8a7",
   "metadata": {
    "scrolled": true
   },
   "outputs": [
    {
     "name": "stderr",
     "output_type": "stream",
     "text": [
      "C:\\Users\\kajal\\Anaconda3\\lib\\site-packages\\statsmodels\\base\\model.py:604: ConvergenceWarning: Maximum Likelihood optimization failed to converge. Check mle_retvals\n",
      "  warnings.warn(\"Maximum Likelihood optimization failed to \"\n"
     ]
    },
    {
     "name": "stdout",
     "output_type": "stream",
     "text": [
      "prediction=   171.9323341661362\n",
      "Expected=  178.0\n"
     ]
    },
    {
     "name": "stderr",
     "output_type": "stream",
     "text": [
      "C:\\Users\\kajal\\Anaconda3\\lib\\site-packages\\statsmodels\\base\\model.py:604: ConvergenceWarning: Maximum Likelihood optimization failed to converge. Check mle_retvals\n",
      "  warnings.warn(\"Maximum Likelihood optimization failed to \"\n"
     ]
    },
    {
     "name": "stdout",
     "output_type": "stream",
     "text": [
      "prediction=   195.3817437999469\n",
      "Expected=  136.0\n"
     ]
    },
    {
     "name": "stderr",
     "output_type": "stream",
     "text": [
      "C:\\Users\\kajal\\Anaconda3\\lib\\site-packages\\statsmodels\\base\\model.py:604: ConvergenceWarning: Maximum Likelihood optimization failed to converge. Check mle_retvals\n",
      "  warnings.warn(\"Maximum Likelihood optimization failed to \"\n"
     ]
    },
    {
     "name": "stdout",
     "output_type": "stream",
     "text": [
      "prediction=   134.40584534567998\n",
      "Expected=  161.0\n"
     ]
    },
    {
     "name": "stderr",
     "output_type": "stream",
     "text": [
      "C:\\Users\\kajal\\Anaconda3\\lib\\site-packages\\statsmodels\\base\\model.py:604: ConvergenceWarning: Maximum Likelihood optimization failed to converge. Check mle_retvals\n",
      "  warnings.warn(\"Maximum Likelihood optimization failed to \"\n"
     ]
    },
    {
     "name": "stdout",
     "output_type": "stream",
     "text": [
      "prediction=   174.24290307681468\n",
      "Expected=  171.0\n"
     ]
    },
    {
     "name": "stderr",
     "output_type": "stream",
     "text": [
      "C:\\Users\\kajal\\Anaconda3\\lib\\site-packages\\statsmodels\\base\\model.py:604: ConvergenceWarning: Maximum Likelihood optimization failed to converge. Check mle_retvals\n",
      "  warnings.warn(\"Maximum Likelihood optimization failed to \"\n"
     ]
    },
    {
     "name": "stdout",
     "output_type": "stream",
     "text": [
      "prediction=   157.52415472305466\n",
      "Expected=  149.0\n"
     ]
    },
    {
     "name": "stderr",
     "output_type": "stream",
     "text": [
      "C:\\Users\\kajal\\Anaconda3\\lib\\site-packages\\statsmodels\\base\\model.py:604: ConvergenceWarning: Maximum Likelihood optimization failed to converge. Check mle_retvals\n",
      "  warnings.warn(\"Maximum Likelihood optimization failed to \"\n"
     ]
    },
    {
     "name": "stdout",
     "output_type": "stream",
     "text": [
      "prediction=   138.65523480957205\n",
      "Expected=  184.0\n"
     ]
    },
    {
     "name": "stderr",
     "output_type": "stream",
     "text": [
      "C:\\Users\\kajal\\Anaconda3\\lib\\site-packages\\statsmodels\\base\\model.py:604: ConvergenceWarning: Maximum Likelihood optimization failed to converge. Check mle_retvals\n",
      "  warnings.warn(\"Maximum Likelihood optimization failed to \"\n"
     ]
    },
    {
     "name": "stdout",
     "output_type": "stream",
     "text": [
      "prediction=   163.20098314407483\n",
      "Expected=  155.0\n"
     ]
    },
    {
     "name": "stderr",
     "output_type": "stream",
     "text": [
      "C:\\Users\\kajal\\Anaconda3\\lib\\site-packages\\statsmodels\\base\\model.py:604: ConvergenceWarning: Maximum Likelihood optimization failed to converge. Check mle_retvals\n",
      "  warnings.warn(\"Maximum Likelihood optimization failed to \"\n"
     ]
    },
    {
     "name": "stdout",
     "output_type": "stream",
     "text": [
      "prediction=   154.80033674065248\n",
      "Expected=  276.0\n"
     ]
    },
    {
     "name": "stderr",
     "output_type": "stream",
     "text": [
      "C:\\Users\\kajal\\Anaconda3\\lib\\site-packages\\statsmodels\\base\\model.py:604: ConvergenceWarning: Maximum Likelihood optimization failed to converge. Check mle_retvals\n",
      "  warnings.warn(\"Maximum Likelihood optimization failed to \"\n"
     ]
    },
    {
     "name": "stdout",
     "output_type": "stream",
     "text": [
      "prediction=   264.39327690808085\n",
      "Expected=  224.0\n"
     ]
    },
    {
     "name": "stderr",
     "output_type": "stream",
     "text": [
      "C:\\Users\\kajal\\Anaconda3\\lib\\site-packages\\statsmodels\\base\\model.py:604: ConvergenceWarning: Maximum Likelihood optimization failed to converge. Check mle_retvals\n",
      "  warnings.warn(\"Maximum Likelihood optimization failed to \"\n"
     ]
    },
    {
     "name": "stdout",
     "output_type": "stream",
     "text": [
      "prediction=   221.9672775613812\n",
      "Expected=  213.0\n"
     ]
    },
    {
     "name": "stderr",
     "output_type": "stream",
     "text": [
      "C:\\Users\\kajal\\Anaconda3\\lib\\site-packages\\statsmodels\\base\\model.py:604: ConvergenceWarning: Maximum Likelihood optimization failed to converge. Check mle_retvals\n",
      "  warnings.warn(\"Maximum Likelihood optimization failed to \"\n",
      "C:\\Users\\kajal\\Anaconda3\\lib\\site-packages\\statsmodels\\tsa\\statespace\\sarimax.py:966: UserWarning: Non-stationary starting autoregressive parameters found. Using zeros as starting parameters.\n",
      "  warn('Non-stationary starting autoregressive parameters'\n"
     ]
    },
    {
     "name": "stdout",
     "output_type": "stream",
     "text": [
      "prediction=   227.00250350874796\n",
      "Expected=  279.0\n"
     ]
    },
    {
     "name": "stderr",
     "output_type": "stream",
     "text": [
      "C:\\Users\\kajal\\Anaconda3\\lib\\site-packages\\statsmodels\\base\\model.py:604: ConvergenceWarning: Maximum Likelihood optimization failed to converge. Check mle_retvals\n",
      "  warnings.warn(\"Maximum Likelihood optimization failed to \"\n"
     ]
    },
    {
     "name": "stdout",
     "output_type": "stream",
     "text": [
      "prediction=   238.16112368319224\n",
      "Expected=  268.0\n"
     ]
    },
    {
     "name": "stderr",
     "output_type": "stream",
     "text": [
      "C:\\Users\\kajal\\Anaconda3\\lib\\site-packages\\statsmodels\\base\\model.py:604: ConvergenceWarning: Maximum Likelihood optimization failed to converge. Check mle_retvals\n",
      "  warnings.warn(\"Maximum Likelihood optimization failed to \"\n"
     ]
    },
    {
     "name": "stdout",
     "output_type": "stream",
     "text": [
      "prediction=   263.214930028169\n",
      "Expected=  287.0\n"
     ]
    },
    {
     "name": "stderr",
     "output_type": "stream",
     "text": [
      "C:\\Users\\kajal\\Anaconda3\\lib\\site-packages\\statsmodels\\base\\model.py:604: ConvergenceWarning: Maximum Likelihood optimization failed to converge. Check mle_retvals\n",
      "  warnings.warn(\"Maximum Likelihood optimization failed to \"\n"
     ]
    },
    {
     "name": "stdout",
     "output_type": "stream",
     "text": [
      "prediction=   270.3438852663386\n",
      "Expected=  238.0\n"
     ]
    },
    {
     "name": "stderr",
     "output_type": "stream",
     "text": [
      "C:\\Users\\kajal\\Anaconda3\\lib\\site-packages\\statsmodels\\base\\model.py:604: ConvergenceWarning: Maximum Likelihood optimization failed to converge. Check mle_retvals\n",
      "  warnings.warn(\"Maximum Likelihood optimization failed to \"\n"
     ]
    },
    {
     "name": "stdout",
     "output_type": "stream",
     "text": [
      "prediction=   242.4585582115139\n",
      "Expected=  213.0\n"
     ]
    },
    {
     "name": "stderr",
     "output_type": "stream",
     "text": [
      "C:\\Users\\kajal\\Anaconda3\\lib\\site-packages\\statsmodels\\base\\model.py:604: ConvergenceWarning: Maximum Likelihood optimization failed to converge. Check mle_retvals\n",
      "  warnings.warn(\"Maximum Likelihood optimization failed to \"\n"
     ]
    },
    {
     "name": "stdout",
     "output_type": "stream",
     "text": [
      "prediction=   258.2197716611503\n",
      "Expected=  257.0\n"
     ]
    },
    {
     "name": "stderr",
     "output_type": "stream",
     "text": [
      "C:\\Users\\kajal\\Anaconda3\\lib\\site-packages\\statsmodels\\base\\model.py:604: ConvergenceWarning: Maximum Likelihood optimization failed to converge. Check mle_retvals\n",
      "  warnings.warn(\"Maximum Likelihood optimization failed to \"\n"
     ]
    },
    {
     "name": "stdout",
     "output_type": "stream",
     "text": [
      "prediction=   185.7482086597954\n",
      "Expected=  293.0\n"
     ]
    },
    {
     "name": "stderr",
     "output_type": "stream",
     "text": [
      "C:\\Users\\kajal\\Anaconda3\\lib\\site-packages\\statsmodels\\base\\model.py:604: ConvergenceWarning: Maximum Likelihood optimization failed to converge. Check mle_retvals\n",
      "  warnings.warn(\"Maximum Likelihood optimization failed to \"\n"
     ]
    },
    {
     "name": "stdout",
     "output_type": "stream",
     "text": [
      "prediction=   303.3720106448832\n",
      "Expected=  212.0\n"
     ]
    },
    {
     "name": "stderr",
     "output_type": "stream",
     "text": [
      "C:\\Users\\kajal\\Anaconda3\\lib\\site-packages\\statsmodels\\base\\model.py:604: ConvergenceWarning: Maximum Likelihood optimization failed to converge. Check mle_retvals\n",
      "  warnings.warn(\"Maximum Likelihood optimization failed to \"\n"
     ]
    },
    {
     "name": "stdout",
     "output_type": "stream",
     "text": [
      "prediction=   245.2319244913689\n",
      "Expected=  246.0\n"
     ]
    },
    {
     "name": "stderr",
     "output_type": "stream",
     "text": [
      "C:\\Users\\kajal\\Anaconda3\\lib\\site-packages\\statsmodels\\base\\model.py:604: ConvergenceWarning: Maximum Likelihood optimization failed to converge. Check mle_retvals\n",
      "  warnings.warn(\"Maximum Likelihood optimization failed to \"\n"
     ]
    },
    {
     "name": "stdout",
     "output_type": "stream",
     "text": [
      "prediction=   249.12804554927442\n",
      "Expected=  353.0\n"
     ]
    },
    {
     "name": "stderr",
     "output_type": "stream",
     "text": [
      "C:\\Users\\kajal\\Anaconda3\\lib\\site-packages\\statsmodels\\base\\model.py:604: ConvergenceWarning: Maximum Likelihood optimization failed to converge. Check mle_retvals\n",
      "  warnings.warn(\"Maximum Likelihood optimization failed to \"\n"
     ]
    },
    {
     "name": "stdout",
     "output_type": "stream",
     "text": [
      "prediction=   324.96427370614396\n",
      "Expected=  339.0\n"
     ]
    },
    {
     "name": "stderr",
     "output_type": "stream",
     "text": [
      "C:\\Users\\kajal\\Anaconda3\\lib\\site-packages\\statsmodels\\base\\model.py:604: ConvergenceWarning: Maximum Likelihood optimization failed to converge. Check mle_retvals\n",
      "  warnings.warn(\"Maximum Likelihood optimization failed to \"\n"
     ]
    },
    {
     "name": "stdout",
     "output_type": "stream",
     "text": [
      "prediction=   307.66688525556435\n",
      "Expected=  308.0\n"
     ]
    },
    {
     "name": "stderr",
     "output_type": "stream",
     "text": [
      "C:\\Users\\kajal\\Anaconda3\\lib\\site-packages\\statsmodels\\base\\model.py:604: ConvergenceWarning: Maximum Likelihood optimization failed to converge. Check mle_retvals\n",
      "  warnings.warn(\"Maximum Likelihood optimization failed to \"\n"
     ]
    },
    {
     "name": "stdout",
     "output_type": "stream",
     "text": [
      "prediction=   293.306507283885\n",
      "Expected=  247.0\n"
     ]
    },
    {
     "name": "stderr",
     "output_type": "stream",
     "text": [
      "C:\\Users\\kajal\\Anaconda3\\lib\\site-packages\\statsmodels\\base\\model.py:604: ConvergenceWarning: Maximum Likelihood optimization failed to converge. Check mle_retvals\n",
      "  warnings.warn(\"Maximum Likelihood optimization failed to \"\n"
     ]
    },
    {
     "name": "stdout",
     "output_type": "stream",
     "text": [
      "prediction=   283.12652906229187\n",
      "Expected=  257.0\n"
     ]
    },
    {
     "name": "stderr",
     "output_type": "stream",
     "text": [
      "C:\\Users\\kajal\\Anaconda3\\lib\\site-packages\\statsmodels\\base\\model.py:604: ConvergenceWarning: Maximum Likelihood optimization failed to converge. Check mle_retvals\n",
      "  warnings.warn(\"Maximum Likelihood optimization failed to \"\n"
     ]
    },
    {
     "name": "stdout",
     "output_type": "stream",
     "text": [
      "prediction=   303.50163149715354\n",
      "Expected=  322.0\n"
     ]
    },
    {
     "name": "stderr",
     "output_type": "stream",
     "text": [
      "C:\\Users\\kajal\\Anaconda3\\lib\\site-packages\\statsmodels\\base\\model.py:604: ConvergenceWarning: Maximum Likelihood optimization failed to converge. Check mle_retvals\n",
      "  warnings.warn(\"Maximum Likelihood optimization failed to \"\n"
     ]
    },
    {
     "name": "stdout",
     "output_type": "stream",
     "text": [
      "prediction=   274.99788657526074\n",
      "Expected=  298.0\n"
     ]
    },
    {
     "name": "stderr",
     "output_type": "stream",
     "text": [
      "C:\\Users\\kajal\\Anaconda3\\lib\\site-packages\\statsmodels\\base\\model.py:604: ConvergenceWarning: Maximum Likelihood optimization failed to converge. Check mle_retvals\n",
      "  warnings.warn(\"Maximum Likelihood optimization failed to \"\n"
     ]
    },
    {
     "name": "stdout",
     "output_type": "stream",
     "text": [
      "prediction=   265.996544924828\n",
      "Expected=  273.0\n"
     ]
    },
    {
     "name": "stderr",
     "output_type": "stream",
     "text": [
      "C:\\Users\\kajal\\Anaconda3\\lib\\site-packages\\statsmodels\\base\\model.py:604: ConvergenceWarning: Maximum Likelihood optimization failed to converge. Check mle_retvals\n",
      "  warnings.warn(\"Maximum Likelihood optimization failed to \"\n"
     ]
    },
    {
     "name": "stdout",
     "output_type": "stream",
     "text": [
      "prediction=   302.7704451968857\n",
      "Expected=  312.0\n"
     ]
    },
    {
     "name": "stderr",
     "output_type": "stream",
     "text": [
      "C:\\Users\\kajal\\Anaconda3\\lib\\site-packages\\statsmodels\\base\\model.py:604: ConvergenceWarning: Maximum Likelihood optimization failed to converge. Check mle_retvals\n",
      "  warnings.warn(\"Maximum Likelihood optimization failed to \"\n"
     ]
    },
    {
     "name": "stdout",
     "output_type": "stream",
     "text": [
      "prediction=   333.1293148197863\n",
      "Expected=  249.0\n"
     ]
    },
    {
     "name": "stderr",
     "output_type": "stream",
     "text": [
      "C:\\Users\\kajal\\Anaconda3\\lib\\site-packages\\statsmodels\\base\\model.py:604: ConvergenceWarning: Maximum Likelihood optimization failed to converge. Check mle_retvals\n",
      "  warnings.warn(\"Maximum Likelihood optimization failed to \"\n"
     ]
    },
    {
     "name": "stdout",
     "output_type": "stream",
     "text": [
      "prediction=   255.23496013190737\n",
      "Expected=  286.0\n"
     ]
    },
    {
     "name": "stderr",
     "output_type": "stream",
     "text": [
      "C:\\Users\\kajal\\Anaconda3\\lib\\site-packages\\statsmodels\\base\\model.py:604: ConvergenceWarning: Maximum Likelihood optimization failed to converge. Check mle_retvals\n",
      "  warnings.warn(\"Maximum Likelihood optimization failed to \"\n"
     ]
    },
    {
     "name": "stdout",
     "output_type": "stream",
     "text": [
      "prediction=   295.7161339754043\n",
      "Expected=  279.0\n"
     ]
    },
    {
     "name": "stderr",
     "output_type": "stream",
     "text": [
      "C:\\Users\\kajal\\Anaconda3\\lib\\site-packages\\statsmodels\\base\\model.py:604: ConvergenceWarning: Maximum Likelihood optimization failed to converge. Check mle_retvals\n",
      "  warnings.warn(\"Maximum Likelihood optimization failed to \"\n"
     ]
    },
    {
     "name": "stdout",
     "output_type": "stream",
     "text": [
      "prediction=   294.8481135926019\n",
      "Expected=  309.0\n"
     ]
    },
    {
     "name": "stderr",
     "output_type": "stream",
     "text": [
      "C:\\Users\\kajal\\Anaconda3\\lib\\site-packages\\statsmodels\\base\\model.py:604: ConvergenceWarning: Maximum Likelihood optimization failed to converge. Check mle_retvals\n",
      "  warnings.warn(\"Maximum Likelihood optimization failed to \"\n"
     ]
    },
    {
     "name": "stdout",
     "output_type": "stream",
     "text": [
      "prediction=   340.372624303826\n",
      "Expected=  401.0\n"
     ]
    },
    {
     "name": "stderr",
     "output_type": "stream",
     "text": [
      "C:\\Users\\kajal\\Anaconda3\\lib\\site-packages\\statsmodels\\base\\model.py:604: ConvergenceWarning: Maximum Likelihood optimization failed to converge. Check mle_retvals\n",
      "  warnings.warn(\"Maximum Likelihood optimization failed to \"\n"
     ]
    },
    {
     "name": "stdout",
     "output_type": "stream",
     "text": [
      "prediction=   363.6898775959502\n",
      "Expected=  309.0\n"
     ]
    },
    {
     "name": "stderr",
     "output_type": "stream",
     "text": [
      "C:\\Users\\kajal\\Anaconda3\\lib\\site-packages\\statsmodels\\base\\model.py:604: ConvergenceWarning: Maximum Likelihood optimization failed to converge. Check mle_retvals\n",
      "  warnings.warn(\"Maximum Likelihood optimization failed to \"\n"
     ]
    },
    {
     "name": "stdout",
     "output_type": "stream",
     "text": [
      "prediction=   284.6561282243431\n",
      "Expected=  328.0\n"
     ]
    },
    {
     "name": "stderr",
     "output_type": "stream",
     "text": [
      "C:\\Users\\kajal\\Anaconda3\\lib\\site-packages\\statsmodels\\base\\model.py:604: ConvergenceWarning: Maximum Likelihood optimization failed to converge. Check mle_retvals\n",
      "  warnings.warn(\"Maximum Likelihood optimization failed to \"\n"
     ]
    },
    {
     "name": "stdout",
     "output_type": "stream",
     "text": [
      "prediction=   311.9456701108136\n",
      "Expected=  353.0\n"
     ]
    },
    {
     "name": "stderr",
     "output_type": "stream",
     "text": [
      "C:\\Users\\kajal\\Anaconda3\\lib\\site-packages\\statsmodels\\base\\model.py:604: ConvergenceWarning: Maximum Likelihood optimization failed to converge. Check mle_retvals\n",
      "  warnings.warn(\"Maximum Likelihood optimization failed to \"\n"
     ]
    },
    {
     "name": "stdout",
     "output_type": "stream",
     "text": [
      "prediction=   311.4898487283676\n",
      "Expected=  354.0\n"
     ]
    },
    {
     "name": "stderr",
     "output_type": "stream",
     "text": [
      "C:\\Users\\kajal\\Anaconda3\\lib\\site-packages\\statsmodels\\base\\model.py:604: ConvergenceWarning: Maximum Likelihood optimization failed to converge. Check mle_retvals\n",
      "  warnings.warn(\"Maximum Likelihood optimization failed to \"\n"
     ]
    },
    {
     "name": "stdout",
     "output_type": "stream",
     "text": [
      "prediction=   362.64417759417535\n",
      "Expected=  327.0\n"
     ]
    },
    {
     "name": "stderr",
     "output_type": "stream",
     "text": [
      "C:\\Users\\kajal\\Anaconda3\\lib\\site-packages\\statsmodels\\base\\model.py:604: ConvergenceWarning: Maximum Likelihood optimization failed to converge. Check mle_retvals\n",
      "  warnings.warn(\"Maximum Likelihood optimization failed to \"\n"
     ]
    },
    {
     "name": "stdout",
     "output_type": "stream",
     "text": [
      "prediction=   317.2470552466696\n",
      "Expected=  324.0\n"
     ]
    },
    {
     "name": "stderr",
     "output_type": "stream",
     "text": [
      "C:\\Users\\kajal\\Anaconda3\\lib\\site-packages\\statsmodels\\base\\model.py:604: ConvergenceWarning: Maximum Likelihood optimization failed to converge. Check mle_retvals\n",
      "  warnings.warn(\"Maximum Likelihood optimization failed to \"\n"
     ]
    },
    {
     "name": "stdout",
     "output_type": "stream",
     "text": [
      "prediction=   348.83337602238214\n",
      "Expected=  285.0\n"
     ]
    },
    {
     "name": "stderr",
     "output_type": "stream",
     "text": [
      "C:\\Users\\kajal\\Anaconda3\\lib\\site-packages\\statsmodels\\base\\model.py:604: ConvergenceWarning: Maximum Likelihood optimization failed to converge. Check mle_retvals\n",
      "  warnings.warn(\"Maximum Likelihood optimization failed to \"\n"
     ]
    },
    {
     "name": "stdout",
     "output_type": "stream",
     "text": [
      "prediction=   331.74242834237356\n",
      "Expected=  243.0\n"
     ]
    },
    {
     "name": "stderr",
     "output_type": "stream",
     "text": [
      "C:\\Users\\kajal\\Anaconda3\\lib\\site-packages\\statsmodels\\base\\model.py:604: ConvergenceWarning: Maximum Likelihood optimization failed to converge. Check mle_retvals\n",
      "  warnings.warn(\"Maximum Likelihood optimization failed to \"\n"
     ]
    },
    {
     "name": "stdout",
     "output_type": "stream",
     "text": [
      "prediction=   259.67972601937447\n",
      "Expected=  241.0\n"
     ]
    },
    {
     "name": "stderr",
     "output_type": "stream",
     "text": [
      "C:\\Users\\kajal\\Anaconda3\\lib\\site-packages\\statsmodels\\base\\model.py:604: ConvergenceWarning: Maximum Likelihood optimization failed to converge. Check mle_retvals\n",
      "  warnings.warn(\"Maximum Likelihood optimization failed to \"\n"
     ]
    },
    {
     "name": "stdout",
     "output_type": "stream",
     "text": [
      "prediction=   246.82918556313106\n",
      "Expected=  287.0\n"
     ]
    },
    {
     "name": "stderr",
     "output_type": "stream",
     "text": [
      "C:\\Users\\kajal\\Anaconda3\\lib\\site-packages\\statsmodels\\base\\model.py:604: ConvergenceWarning: Maximum Likelihood optimization failed to converge. Check mle_retvals\n",
      "  warnings.warn(\"Maximum Likelihood optimization failed to \"\n"
     ]
    },
    {
     "name": "stdout",
     "output_type": "stream",
     "text": [
      "prediction=   312.041234403335\n",
      "Expected=  355.0\n"
     ]
    },
    {
     "name": "stderr",
     "output_type": "stream",
     "text": [
      "C:\\Users\\kajal\\Anaconda3\\lib\\site-packages\\statsmodels\\base\\model.py:604: ConvergenceWarning: Maximum Likelihood optimization failed to converge. Check mle_retvals\n",
      "  warnings.warn(\"Maximum Likelihood optimization failed to \"\n"
     ]
    },
    {
     "name": "stdout",
     "output_type": "stream",
     "text": [
      "prediction=   337.7943983350557\n",
      "Expected=  460.0\n"
     ]
    },
    {
     "name": "stderr",
     "output_type": "stream",
     "text": [
      "C:\\Users\\kajal\\Anaconda3\\lib\\site-packages\\statsmodels\\base\\model.py:604: ConvergenceWarning: Maximum Likelihood optimization failed to converge. Check mle_retvals\n",
      "  warnings.warn(\"Maximum Likelihood optimization failed to \"\n"
     ]
    },
    {
     "name": "stdout",
     "output_type": "stream",
     "text": [
      "prediction=   412.8311924335385\n",
      "Expected=  364.0\n"
     ]
    },
    {
     "name": "stderr",
     "output_type": "stream",
     "text": [
      "C:\\Users\\kajal\\Anaconda3\\lib\\site-packages\\statsmodels\\base\\model.py:604: ConvergenceWarning: Maximum Likelihood optimization failed to converge. Check mle_retvals\n",
      "  warnings.warn(\"Maximum Likelihood optimization failed to \"\n"
     ]
    },
    {
     "name": "stdout",
     "output_type": "stream",
     "text": [
      "prediction=   346.4597243557497\n",
      "Expected=  487.0\n"
     ]
    },
    {
     "name": "stderr",
     "output_type": "stream",
     "text": [
      "C:\\Users\\kajal\\Anaconda3\\lib\\site-packages\\statsmodels\\base\\model.py:604: ConvergenceWarning: Maximum Likelihood optimization failed to converge. Check mle_retvals\n",
      "  warnings.warn(\"Maximum Likelihood optimization failed to \"\n"
     ]
    },
    {
     "name": "stdout",
     "output_type": "stream",
     "text": [
      "prediction=   447.39617341467886\n",
      "Expected=  452.0\n"
     ]
    },
    {
     "name": "stderr",
     "output_type": "stream",
     "text": [
      "C:\\Users\\kajal\\Anaconda3\\lib\\site-packages\\statsmodels\\base\\model.py:604: ConvergenceWarning: Maximum Likelihood optimization failed to converge. Check mle_retvals\n",
      "  warnings.warn(\"Maximum Likelihood optimization failed to \"\n"
     ]
    },
    {
     "name": "stdout",
     "output_type": "stream",
     "text": [
      "prediction=   443.1818232101253\n",
      "Expected=  391.0\n"
     ]
    },
    {
     "name": "stderr",
     "output_type": "stream",
     "text": [
      "C:\\Users\\kajal\\Anaconda3\\lib\\site-packages\\statsmodels\\base\\model.py:604: ConvergenceWarning: Maximum Likelihood optimization failed to converge. Check mle_retvals\n",
      "  warnings.warn(\"Maximum Likelihood optimization failed to \"\n"
     ]
    },
    {
     "name": "stdout",
     "output_type": "stream",
     "text": [
      "prediction=   408.734554307471\n",
      "Expected=  500.0\n"
     ]
    },
    {
     "name": "stderr",
     "output_type": "stream",
     "text": [
      "C:\\Users\\kajal\\Anaconda3\\lib\\site-packages\\statsmodels\\base\\model.py:604: ConvergenceWarning: Maximum Likelihood optimization failed to converge. Check mle_retvals\n",
      "  warnings.warn(\"Maximum Likelihood optimization failed to \"\n"
     ]
    },
    {
     "name": "stdout",
     "output_type": "stream",
     "text": [
      "prediction=   419.75776413001967\n",
      "Expected=  451.0\n"
     ]
    },
    {
     "name": "stderr",
     "output_type": "stream",
     "text": [
      "C:\\Users\\kajal\\Anaconda3\\lib\\site-packages\\statsmodels\\base\\model.py:604: ConvergenceWarning: Maximum Likelihood optimization failed to converge. Check mle_retvals\n",
      "  warnings.warn(\"Maximum Likelihood optimization failed to \"\n"
     ]
    },
    {
     "name": "stdout",
     "output_type": "stream",
     "text": [
      "prediction=   468.85892688805734\n",
      "Expected=  375.0\n"
     ]
    },
    {
     "name": "stderr",
     "output_type": "stream",
     "text": [
      "C:\\Users\\kajal\\Anaconda3\\lib\\site-packages\\statsmodels\\base\\model.py:604: ConvergenceWarning: Maximum Likelihood optimization failed to converge. Check mle_retvals\n",
      "  warnings.warn(\"Maximum Likelihood optimization failed to \"\n"
     ]
    },
    {
     "name": "stdout",
     "output_type": "stream",
     "text": [
      "prediction=   384.0828837059498\n",
      "Expected=  372.0\n"
     ]
    },
    {
     "name": "stderr",
     "output_type": "stream",
     "text": [
      "C:\\Users\\kajal\\Anaconda3\\lib\\site-packages\\statsmodels\\base\\model.py:604: ConvergenceWarning: Maximum Likelihood optimization failed to converge. Check mle_retvals\n",
      "  warnings.warn(\"Maximum Likelihood optimization failed to \"\n"
     ]
    },
    {
     "name": "stdout",
     "output_type": "stream",
     "text": [
      "prediction=   316.2092416575743\n",
      "Expected=  302.0\n"
     ]
    },
    {
     "name": "stderr",
     "output_type": "stream",
     "text": [
      "C:\\Users\\kajal\\Anaconda3\\lib\\site-packages\\statsmodels\\base\\model.py:604: ConvergenceWarning: Maximum Likelihood optimization failed to converge. Check mle_retvals\n",
      "  warnings.warn(\"Maximum Likelihood optimization failed to \"\n"
     ]
    },
    {
     "name": "stdout",
     "output_type": "stream",
     "text": [
      "prediction=   352.77559544834867\n",
      "Expected=  316.0\n"
     ]
    },
    {
     "name": "stderr",
     "output_type": "stream",
     "text": [
      "C:\\Users\\kajal\\Anaconda3\\lib\\site-packages\\statsmodels\\base\\model.py:604: ConvergenceWarning: Maximum Likelihood optimization failed to converge. Check mle_retvals\n",
      "  warnings.warn(\"Maximum Likelihood optimization failed to \"\n"
     ]
    },
    {
     "name": "stdout",
     "output_type": "stream",
     "text": [
      "prediction=   367.3883271796345\n",
      "Expected=  398.0\n"
     ]
    },
    {
     "name": "stderr",
     "output_type": "stream",
     "text": [
      "C:\\Users\\kajal\\Anaconda3\\lib\\site-packages\\statsmodels\\base\\model.py:604: ConvergenceWarning: Maximum Likelihood optimization failed to converge. Check mle_retvals\n",
      "  warnings.warn(\"Maximum Likelihood optimization failed to \"\n"
     ]
    },
    {
     "name": "stdout",
     "output_type": "stream",
     "text": [
      "prediction=   365.93403219079187\n",
      "Expected=  394.0\n"
     ]
    },
    {
     "name": "stderr",
     "output_type": "stream",
     "text": [
      "C:\\Users\\kajal\\Anaconda3\\lib\\site-packages\\statsmodels\\base\\model.py:604: ConvergenceWarning: Maximum Likelihood optimization failed to converge. Check mle_retvals\n",
      "  warnings.warn(\"Maximum Likelihood optimization failed to \"\n"
     ]
    },
    {
     "name": "stdout",
     "output_type": "stream",
     "text": [
      "prediction=   409.5548673068804\n",
      "Expected=  431.0\n",
      "prediction=   430.3410210537249\n",
      "Expected=  431.0\n"
     ]
    },
    {
     "name": "stderr",
     "output_type": "stream",
     "text": [
      "C:\\Users\\kajal\\Anaconda3\\lib\\site-packages\\statsmodels\\base\\model.py:604: ConvergenceWarning: Maximum Likelihood optimization failed to converge. Check mle_retvals\n",
      "  warnings.warn(\"Maximum Likelihood optimization failed to \"\n"
     ]
    }
   ],
   "source": [
    "from statsmodels.tsa.arima.model import ARIMA\n",
    "from math import sqrt\n",
    "\n",
    "X = X.astype('float32')\n",
    "train_size = int(len(X)*0.5)\n",
    "train, test = X[0:train_size], X[train_size:]\n",
    "\n",
    "history = [x for x in train]\n",
    "predictions = list()\n",
    "for i in range(len(test)):\n",
    "    model = ARIMA(history, order= (11,1,2))\n",
    "    model_fit = model.fit()\n",
    "    yhat = model_fit.forecast()[0]\n",
    "    predictions.append(yhat)\n",
    "    \n",
    "    obs = test[i]\n",
    "    history.append(obs)\n",
    "    \n",
    "    print('prediction=  ', yhat)\n",
    "    print('Expected= ', obs)\n",
    "    \n",
    "    "
   ]
  },
  {
   "cell_type": "markdown",
   "id": "833defb8",
   "metadata": {},
   "source": [
    "ARIMA(11,1,2) on raw data does not converge and results in errors. Thus the model is simplified to ARIMA(0,1,2)"
   ]
  },
  {
   "cell_type": "code",
   "execution_count": 26,
   "id": "aa35a2e0",
   "metadata": {
    "scrolled": true
   },
   "outputs": [
    {
     "name": "stdout",
     "output_type": "stream",
     "text": [
      "prediction=   180.7052276380592\n",
      "Expected=  178.0\n",
      "prediction=   179.87256815291312\n",
      "Expected=  136.0\n",
      "prediction=   141.09782687717552\n",
      "Expected=  161.0\n",
      "prediction=   166.1726506918867\n",
      "Expected=  171.0\n",
      "prediction=   167.00513881486367\n",
      "Expected=  149.0\n",
      "prediction=   150.65649675838168\n",
      "Expected=  184.0\n",
      "prediction=   182.3143834336512\n",
      "Expected=  155.0\n",
      "prediction=   154.21307388911873\n",
      "Expected=  276.0\n",
      "prediction=   245.214227640463\n",
      "Expected=  224.0\n",
      "prediction=   225.90227330706395\n",
      "Expected=  213.0\n",
      "prediction=   216.8674629601438\n",
      "Expected=  279.0\n",
      "prediction=   258.69791490500205\n",
      "Expected=  268.0\n",
      "prediction=   263.3771917569708\n",
      "Expected=  287.0\n",
      "prediction=   279.94465627902645\n",
      "Expected=  238.0\n",
      "prediction=   251.48470742866664\n",
      "Expected=  213.0\n",
      "prediction=   226.5739171912907\n",
      "Expected=  257.0\n",
      "prediction=   249.6901441882708\n",
      "Expected=  293.0\n",
      "prediction=   277.21080638977077\n",
      "Expected=  212.0\n",
      "prediction=   230.02048900985767\n",
      "Expected=  246.0\n",
      "prediction=   245.78622529972623\n",
      "Expected=  353.0\n",
      "prediction=   317.99154958877574\n",
      "Expected=  339.0\n",
      "prediction=   313.7339931006592\n",
      "Expected=  308.0\n",
      "prediction=   305.5557474192634\n",
      "Expected=  247.0\n",
      "prediction=   263.4157165457916\n",
      "Expected=  257.0\n",
      "prediction=   272.4281447140235\n",
      "Expected=  322.0\n",
      "prediction=   310.22534660087564\n",
      "Expected=  298.0\n",
      "prediction=   288.64396621120886\n",
      "Expected=  273.0\n",
      "prediction=   280.3713280207672\n",
      "Expected=  312.0\n",
      "prediction=   307.4682246729752\n",
      "Expected=  249.0\n",
      "prediction=   258.44128155978535\n",
      "Expected=  286.0\n",
      "prediction=   290.43485829680725\n",
      "Expected=  279.0\n",
      "prediction=   277.17685043508186\n",
      "Expected=  309.0\n",
      "prediction=   300.3848813609772\n",
      "Expected=  401.0\n",
      "prediction=   364.3029867147242\n",
      "Expected=  309.0\n",
      "prediction=   303.53780453136505\n",
      "Expected=  328.0\n",
      "prediction=   329.7171242498418\n",
      "Expected=  353.0\n",
      "prediction=   340.44751036095386\n",
      "Expected=  354.0\n",
      "prediction=   344.7135962515987\n",
      "Expected=  327.0\n",
      "prediction=   330.5070219248003\n",
      "Expected=  324.0\n",
      "prediction=   329.88113632114647\n",
      "Expected=  285.0\n",
      "prediction=   302.31767812434583\n",
      "Expected=  243.0\n",
      "prediction=   272.0202725213925\n",
      "Expected=  241.0\n",
      "prediction=   262.9327104146032\n",
      "Expected=  287.0\n",
      "prediction=   286.89766752783953\n",
      "Expected=  355.0\n",
      "prediction=   329.36664416399555\n",
      "Expected=  460.0\n",
      "prediction=   409.00719952138587\n",
      "Expected=  364.0\n",
      "prediction=   335.2833613715282\n",
      "Expected=  487.0\n",
      "prediction=   451.42338142395306\n",
      "Expected=  452.0\n",
      "prediction=   438.530632132015\n",
      "Expected=  391.0\n",
      "prediction=   403.21596911584084\n",
      "Expected=  500.0\n",
      "prediction=   472.6737917566741\n",
      "Expected=  451.0\n",
      "prediction=   448.6020870118527\n",
      "Expected=  375.0\n",
      "prediction=   401.46892688190354\n",
      "Expected=  372.0\n",
      "prediction=   393.7629644767453\n",
      "Expected=  302.0\n",
      "prediction=   334.9391214750434\n",
      "Expected=  316.0\n",
      "prediction=   334.7115179549603\n",
      "Expected=  398.0\n",
      "prediction=   385.47005047135826\n",
      "Expected=  394.0\n",
      "prediction=   379.07342964925476\n",
      "Expected=  431.0\n",
      "prediction=   413.22010492392286\n",
      "Expected=  431.0\n"
     ]
    }
   ],
   "source": [
    "X = X.astype('float32')\n",
    "train_size = int(len(X)*0.5)\n",
    "train, test = X[0:train_size], X[train_size:]\n",
    "\n",
    "history = [x for x in train]\n",
    "predictions = list()\n",
    "for i in range(len(test)):\n",
    "    model = ARIMA(history, order= (0,1,2))\n",
    "    model_fit = model.fit()\n",
    "    yhat = model_fit.forecast()[0]\n",
    "    predictions.append(yhat)\n",
    "    \n",
    "    obs = test[i]\n",
    "    history.append(obs)\n",
    "    \n",
    "    print('prediction=  ', yhat)\n",
    "    print('Expected= ', obs)\n",
    "    "
   ]
  },
  {
   "cell_type": "code",
   "execution_count": 27,
   "id": "f2263efd",
   "metadata": {},
   "outputs": [
    {
     "name": "stdout",
     "output_type": "stream",
     "text": [
      "RMSE=  52.49442703824445\n"
     ]
    }
   ],
   "source": [
    "rmse = sqrt(mean_squared_error(test, predictions))\n",
    "print('RMSE= ', rmse)"
   ]
  },
  {
   "cell_type": "markdown",
   "id": "2f31e867",
   "metadata": {},
   "source": [
    "--------------------------------------------------------------------------\n",
    "\n",
    "**Grid serach ARIMA hyperparameters**\n",
    "\n",
    "Here, we will optimize the values of p, d, and q for combination that doesn't yield error in order to get the best performance of the model. \n",
    "p: 0 to 12\n",
    "q: 0 to 3\n",
    "d: 0 to 12\n",
    "\n",
    "total 13*4*13 or 676 runs of test harness. "
   ]
  },
  {
   "cell_type": "code",
   "execution_count": null,
   "id": "1043ed58",
   "metadata": {},
   "outputs": [
    {
     "name": "stdout",
     "output_type": "stream",
     "text": [
      "ARIMA(0, 0, 0) RMSE=30724.709\n",
      "ARIMA(0, 0, 1) RMSE=11495.777\n",
      "ARIMA(0, 0, 2) RMSE=10785.106\n",
      "ARIMA(0, 0, 3) RMSE=5829.999\n",
      "ARIMA(0, 0, 4) RMSE=5425.617\n",
      "ARIMA(0, 0, 5) RMSE=4746.197\n",
      "ARIMA(0, 0, 6) RMSE=4523.559\n",
      "ARIMA(0, 0, 7) RMSE=4178.011\n",
      "ARIMA(0, 0, 8) RMSE=4688.077\n",
      "ARIMA(0, 0, 9) RMSE=3585.927\n",
      "ARIMA(0, 0, 10) RMSE=4276.526\n",
      "ARIMA(0, 0, 11) RMSE=4498.779\n",
      "ARIMA(0, 0, 12) RMSE=3992.096\n",
      "ARIMA(0, 1, 0) RMSE=2936.695\n",
      "ARIMA(0, 1, 1) RMSE=2742.040\n",
      "ARIMA(0, 1, 2) RMSE=2755.665\n",
      "ARIMA(0, 1, 3) RMSE=2886.975\n",
      "ARIMA(0, 1, 4) RMSE=2749.742\n",
      "ARIMA(0, 1, 5) RMSE=2893.586\n",
      "ARIMA(0, 1, 6) RMSE=3030.045\n",
      "ARIMA(0, 1, 7) RMSE=2981.040\n",
      "ARIMA(0, 1, 8) RMSE=3050.815\n",
      "ARIMA(0, 1, 9) RMSE=3201.032\n",
      "ARIMA(0, 1, 10) RMSE=3437.773\n",
      "ARIMA(0, 1, 11) RMSE=3050.318\n",
      "ARIMA(0, 1, 12) RMSE=2902.960\n",
      "ARIMA(0, 2, 0) RMSE=7523.949\n",
      "ARIMA(0, 2, 1) RMSE=2953.557\n",
      "ARIMA(0, 2, 2) RMSE=2749.055\n",
      "ARIMA(0, 2, 3) RMSE=2690.657\n",
      "ARIMA(0, 2, 4) RMSE=2872.013\n",
      "ARIMA(0, 2, 5) RMSE=2587.291\n",
      "ARIMA(0, 2, 6) RMSE=2744.357\n",
      "ARIMA(0, 2, 7) RMSE=2845.840\n",
      "ARIMA(0, 2, 8) RMSE=2920.283\n",
      "ARIMA(0, 2, 9) RMSE=2930.377\n",
      "ARIMA(0, 2, 10) RMSE=2996.295\n",
      "ARIMA(0, 2, 11) RMSE=3311.265\n",
      "ARIMA(0, 2, 12) RMSE=3110.861\n",
      "ARIMA(0, 3, 0) RMSE=23469.644\n",
      "ARIMA(0, 3, 1) RMSE=7611.860\n",
      "ARIMA(0, 3, 2) RMSE=3030.319\n",
      "ARIMA(0, 3, 3) RMSE=2818.152\n",
      "ARIMA(0, 3, 4) RMSE=2795.303\n",
      "ARIMA(0, 3, 5) RMSE=3112.051\n",
      "ARIMA(0, 3, 6) RMSE=2777.632\n",
      "ARIMA(0, 3, 7) RMSE=3348.776\n",
      "ARIMA(0, 3, 8) RMSE=3235.038\n",
      "ARIMA(0, 3, 9) RMSE=3069.381\n",
      "ARIMA(0, 3, 10) RMSE=3407.538\n",
      "ARIMA(0, 3, 11) RMSE=3175.245\n",
      "ARIMA(0, 3, 12) RMSE=3543.619\n",
      "ARIMA(1, 0, 0) RMSE=3034.019\n",
      "ARIMA(1, 0, 1) RMSE=2827.648\n",
      "ARIMA(1, 0, 2) RMSE=2832.632\n",
      "ARIMA(1, 0, 3) RMSE=2966.782\n",
      "ARIMA(1, 0, 4) RMSE=2835.036\n",
      "ARIMA(1, 0, 5) RMSE=2974.138\n",
      "ARIMA(1, 0, 6) RMSE=3108.232\n",
      "ARIMA(1, 0, 7) RMSE=3061.713\n",
      "ARIMA(1, 0, 8) RMSE=3025.335\n",
      "ARIMA(1, 0, 9) RMSE=3343.535\n",
      "ARIMA(1, 0, 10) RMSE=3599.749\n",
      "ARIMA(1, 0, 11) RMSE=3368.445\n",
      "ARIMA(1, 0, 12) RMSE=2827.966\n",
      "ARIMA(1, 1, 0) RMSE=2797.344\n",
      "ARIMA(1, 1, 1) RMSE=2678.003\n",
      "ARIMA(1, 1, 2) RMSE=2753.397\n",
      "ARIMA(1, 1, 3) RMSE=2911.500\n",
      "ARIMA(1, 1, 4) RMSE=2776.128\n",
      "ARIMA(1, 1, 5) RMSE=2862.632\n",
      "ARIMA(1, 1, 6) RMSE=3042.117\n",
      "ARIMA(1, 1, 7) RMSE=3058.671\n",
      "ARIMA(1, 1, 8) RMSE=3134.819\n",
      "ARIMA(1, 1, 9) RMSE=3230.644\n",
      "ARIMA(1, 1, 10) RMSE=3304.821\n",
      "ARIMA(1, 1, 11) RMSE=3147.696\n",
      "ARIMA(1, 1, 12) RMSE=3112.940\n",
      "ARIMA(1, 2, 0) RMSE=5381.748\n",
      "ARIMA(1, 2, 1) RMSE=2804.896\n",
      "ARIMA(1, 2, 2) RMSE=2938.464\n",
      "ARIMA(1, 2, 3) RMSE=2795.132\n",
      "ARIMA(1, 2, 4) RMSE=2766.927\n",
      "ARIMA(1, 2, 5) RMSE=2838.633\n",
      "ARIMA(1, 2, 6) RMSE=2696.256\n",
      "ARIMA(1, 2, 7) RMSE=2892.406\n",
      "ARIMA(1, 2, 8) RMSE=2812.952\n",
      "ARIMA(1, 2, 9) RMSE=3094.483\n",
      "ARIMA(1, 2, 10) RMSE=3120.869\n",
      "ARIMA(1, 2, 11) RMSE=3195.977\n",
      "ARIMA(1, 2, 12) RMSE=3173.475\n",
      "ARIMA(1, 3, 0) RMSE=13886.754\n",
      "ARIMA(1, 3, 1) RMSE=5449.687\n",
      "ARIMA(1, 3, 2) RMSE=3009.488\n",
      "ARIMA(1, 3, 3) RMSE=3015.510\n",
      "ARIMA(1, 3, 4) RMSE=2825.122\n",
      "ARIMA(1, 3, 5) RMSE=2841.416\n",
      "ARIMA(1, 3, 6) RMSE=3038.315\n",
      "ARIMA(1, 3, 7) RMSE=2777.883\n",
      "ARIMA(1, 3, 8) RMSE=2956.732\n",
      "ARIMA(1, 3, 9) RMSE=3148.554\n",
      "ARIMA(1, 3, 10) RMSE=3068.195\n",
      "ARIMA(1, 3, 11) RMSE=3280.039\n",
      "ARIMA(1, 3, 12) RMSE=3466.141\n",
      "ARIMA(2, 0, 0) RMSE=2906.062\n",
      "ARIMA(2, 0, 1) RMSE=2884.571\n",
      "ARIMA(2, 0, 2) RMSE=2822.491\n",
      "ARIMA(2, 0, 3) RMSE=2901.923\n",
      "ARIMA(2, 0, 4) RMSE=2909.898\n",
      "ARIMA(2, 0, 5) RMSE=2983.602\n",
      "ARIMA(2, 0, 6) RMSE=3280.335\n",
      "ARIMA(2, 0, 7) RMSE=3240.826\n",
      "ARIMA(2, 0, 8) RMSE=3333.534\n",
      "ARIMA(2, 0, 9) RMSE=3338.212\n",
      "ARIMA(2, 0, 10) RMSE=3850.115\n",
      "ARIMA(2, 0, 11) RMSE=3788.036\n",
      "ARIMA(2, 0, 12) RMSE=3145.842\n",
      "ARIMA(2, 1, 0) RMSE=2773.910\n",
      "ARIMA(2, 1, 1) RMSE=2851.345\n",
      "ARIMA(2, 1, 2) RMSE=2981.664\n",
      "ARIMA(2, 1, 3) RMSE=2882.591\n",
      "ARIMA(2, 1, 4) RMSE=2789.754\n",
      "ARIMA(2, 1, 5) RMSE=3003.181\n",
      "ARIMA(2, 1, 6) RMSE=3017.410\n",
      "ARIMA(2, 1, 7) RMSE=3391.630\n",
      "ARIMA(2, 1, 8) RMSE=3282.732\n",
      "ARIMA(2, 1, 9) RMSE=3207.659\n",
      "ARIMA(2, 1, 10) RMSE=3203.289\n",
      "ARIMA(2, 1, 11) RMSE=3076.701\n",
      "ARIMA(2, 1, 12) RMSE=3183.403\n",
      "ARIMA(2, 2, 0) RMSE=3868.181\n",
      "ARIMA(2, 2, 1) RMSE=2768.100\n",
      "ARIMA(2, 2, 2) RMSE=2822.891\n",
      "ARIMA(2, 2, 3) RMSE=2845.429\n",
      "ARIMA(2, 2, 4) RMSE=2987.523\n",
      "ARIMA(2, 2, 5) RMSE=2834.978\n",
      "ARIMA(2, 2, 6) RMSE=2621.544\n",
      "ARIMA(2, 2, 7) RMSE=2662.989\n",
      "ARIMA(2, 2, 8) RMSE=3068.894\n",
      "ARIMA(2, 2, 9) RMSE=3102.735\n",
      "ARIMA(2, 2, 10) RMSE=3125.106\n",
      "ARIMA(2, 2, 11) RMSE=3103.771\n",
      "ARIMA(2, 2, 12) RMSE=3974.210\n",
      "ARIMA(2, 3, 0) RMSE=7422.862\n",
      "ARIMA(2, 3, 1) RMSE=3925.581\n",
      "ARIMA(2, 3, 2) RMSE=2859.793\n",
      "ARIMA(2, 3, 3) RMSE=2940.787\n",
      "ARIMA(2, 3, 4) RMSE=3201.928\n",
      "ARIMA(2, 3, 5) RMSE=2911.038\n",
      "ARIMA(2, 3, 6) RMSE=6328.486\n",
      "ARIMA(2, 3, 7) RMSE=3022.153\n",
      "ARIMA(2, 3, 8) RMSE=2896.662\n",
      "ARIMA(2, 3, 10) RMSE=3477.939\n",
      "ARIMA(2, 3, 11) RMSE=3820.599\n",
      "ARIMA(2, 3, 12) RMSE=4123.681\n",
      "ARIMA(3, 0, 0) RMSE=2860.527\n",
      "ARIMA(3, 0, 1) RMSE=2835.445\n",
      "ARIMA(3, 0, 2) RMSE=3126.800\n",
      "ARIMA(3, 0, 3) RMSE=3030.794\n",
      "ARIMA(3, 0, 4) RMSE=2815.899\n",
      "ARIMA(3, 0, 5) RMSE=2853.529\n",
      "ARIMA(3, 0, 6) RMSE=2848.928\n",
      "ARIMA(3, 0, 7) RMSE=3004.746\n",
      "ARIMA(3, 0, 8) RMSE=3304.546\n",
      "ARIMA(3, 0, 9) RMSE=3186.794\n",
      "ARIMA(3, 0, 10) RMSE=3153.691\n",
      "ARIMA(3, 0, 11) RMSE=3659.879\n",
      "ARIMA(3, 0, 12) RMSE=3567.200\n",
      "ARIMA(3, 1, 0) RMSE=2867.625\n",
      "ARIMA(3, 1, 1) RMSE=2898.852\n",
      "ARIMA(3, 1, 2) RMSE=2790.690\n"
     ]
    }
   ],
   "source": [
    "import warnings\n",
    "\n",
    "def evaluate_arima_model(X, arima_order):\n",
    "    X = X.astype('float32')\n",
    "    train_size= int(len(X)*0.5)\n",
    "    train, test = X[0:train_size], X[train_size:]\n",
    "    history = [x for x in train]\n",
    "    \n",
    "    predictions = list()\n",
    "    for t in range(len(test)):\n",
    "        model = ARIMA(history, order = arima_order)\n",
    "        model_fit = model.fit()\n",
    "        yhat = model_fit.forecast()[0]\n",
    "        predictions.append(yhat)\n",
    "        history.append(test[t])\n",
    "        \n",
    "    rmse = mean_squared_error(test, predictions)\n",
    "    return rmse\n",
    "\n",
    "\n",
    "def evaluate_models(dataset, p_values, d_values, q_values):\n",
    "    dataset = dataset.astype('float32')\n",
    "    best_score, best_cfg = float('inf'), None\n",
    "    for p in p_values:\n",
    "        for d in d_values:\n",
    "            for q in q_values: \n",
    "                order = (p,d,q)\n",
    "                try:\n",
    "                    rmse = evaluate_arima_model(dataset, order)\n",
    "                    if rmse<best_score:\n",
    "                        best_score, best_cfg = rmse, order\n",
    "                    print('ARIMA%s RMSE=%.3f' %(order, rmse))                    \n",
    "                except:\n",
    "                    continue\n",
    "    print('Best ARIMA%s RMSE=%.3f' % (best_cfg, best_score))\n",
    "    \n",
    "p_values = range(0,13)\n",
    "d_values = range(0,4)\n",
    "q_values = range(0,13)\n",
    "\n",
    "warnings.filterwarnings(\"ignore\")\n",
    "evaluate_models(series.values, p_values, d_values, q_values)"
   ]
  },
  {
   "cell_type": "markdown",
   "id": "8c957d3d",
   "metadata": {},
   "source": [
    " **Review residual errors**\n",
    " \n",
    " Ideally, the distribution of residual errors should be guassian with a zero mean. To check this, we wil plot histogram and density plots. "
   ]
  },
  {
   "cell_type": "code",
   "execution_count": 28,
   "id": "bca32773",
   "metadata": {},
   "outputs": [
    {
     "data": {
      "image/png": "[encoded data removed]",
      "text/plain": [
       "<Figure size 432x288 with 2 Axes>"
      ]
     },
     "metadata": {
      "needs_background": "light"
     },
     "output_type": "display_data"
    }
   ],
   "source": [
    "# moedl\n",
    "history = [x for x in train]\n",
    "predictions = list()\n",
    "for i in range(len(test)):\n",
    "    model = ARIMA(history, order=(0,1,2))\n",
    "\n",
    "    model_fit = model.fit()\n",
    "    yhat = model_fit.forecast()[0]\n",
    "    predictions.append(yhat)\n",
    "    # observation\n",
    "    obs = test[i]\n",
    "    history.append(obs)\n",
    "\n",
    "#  residual error plot\n",
    "residuals = [test[i]-predictions[i] for i in range(len(test))]\n",
    "residuals = pandas.DataFrame(residuals)\n",
    "pyplot.figure()\n",
    "pyplot.subplot(211)\n",
    "residuals.hist(ax=pyplot.gca())\n",
    "pyplot.subplot(212)\n",
    "residuals.plot(kind='kde', ax=pyplot.gca())\n",
    "pyplot.show()"
   ]
  },
  {
   "cell_type": "markdown",
   "id": "6cabb8e2",
   "metadata": {},
   "source": [
    "The graph is guassian like distribution with longer right tail. This is due the bias in prediction. To avoid this, using power based transformers would be useful. \n",
    "\n",
    "* We should check the autocorrelation of residual errors, it would suggest if model has more opportunity to model the temporal structural in data. \n",
    "For this again we will plot ACF & PACF"
   ]
  },
  {
   "cell_type": "code",
   "execution_count": 29,
   "id": "9e69d5dc",
   "metadata": {},
   "outputs": [
    {
     "name": "stderr",
     "output_type": "stream",
     "text": [
      "C:\\Users\\kajal\\Anaconda3\\lib\\site-packages\\statsmodels\\graphics\\tsaplots.py:348: FutureWarning: The default method 'yw' can produce PACF values outside of the [-1,1] interval. After 0.13, the default will change tounadjusted Yule-Walker ('ywm'). You can use this method now by setting method='ywm'.\n",
      "  warnings.warn(\n"
     ]
    },
    {
     "data": {
      "image/png": "[encoded data removed]",
      "text/plain": [
       "<Figure size 432x288 with 2 Axes>"
      ]
     },
     "metadata": {
      "needs_background": "light"
     },
     "output_type": "display_data"
    }
   ],
   "source": [
    "residuals = [test[i]-predictions[i] for i in range(len(test))]\n",
    "residuals = pandas.DataFrame(residuals)\n",
    "pyplot.figure()\n",
    "pyplot.subplot(211)\n",
    "plot_acf(residuals, lags=25, ax=pyplot.gca())\n",
    "pyplot.subplot(212)\n",
    "plot_pacf(residuals, lags=25, ax=pyplot.gca())\n",
    "pyplot.show()"
   ]
  },
  {
   "cell_type": "markdown",
   "id": "1f042b16",
   "metadata": {},
   "source": [
    "the result shows that the little autocorrelation is present in the dataset. \n",
    "\n",
    "------------------------------------------------------------------------------\n",
    "**Box Cox transformation**\n",
    "\n",
    "This method is able to evaluate a suite of power transforms including, but not limited to, log, square root, and reciprocal transforms of the data. "
   ]
  },
  {
   "cell_type": "code",
   "execution_count": 30,
   "id": "97a0180c",
   "metadata": {},
   "outputs": [
    {
     "name": "stderr",
     "output_type": "stream",
     "text": [
      "C:\\Users\\kajal\\Anaconda3\\lib\\site-packages\\numpy\\core\\_methods.py:233: RuntimeWarning: overflow encountered in multiply\n",
      "  x = um.multiply(x, x, out=x)\n"
     ]
    },
    {
     "name": "stdout",
     "output_type": "stream",
     "text": [
      "lambda: 0.316715\n"
     ]
    },
    {
     "data": {
      "image/png": "[encoded data removed]",
      "text/plain": [
       "<Figure size 432x288 with 3 Axes>"
      ]
     },
     "metadata": {
      "needs_background": "light"
     },
     "output_type": "display_data"
    }
   ],
   "source": [
    "from scipy.stats import boxcox\n",
    "from statsmodels.graphics.gofplots import qqplot\n",
    "\n",
    "transformed, lam = boxcox(X)\n",
    "print('lambda: %f' % lam)\n",
    "pyplot.figure(1)\n",
    "\n",
    "pyplot.subplot(311)\n",
    "pyplot.plot(transformed)\n",
    "\n",
    "pyplot.subplot(312)\n",
    "pyplot.hist(transformed)\n",
    "\n",
    "pyplot.subplot(313)\n",
    "qqplot(transformed, line ='r', ax = pyplot.gca())\n",
    "pyplot.show()"
   ]
  },
  {
   "cell_type": "markdown",
   "id": "38e62889",
   "metadata": {},
   "source": [
    "1st graph: Line chart of the transformed model\n",
    "\n",
    "2nd graph: histogram of transformed values\n",
    "\n",
    "3rd: Q-Q plot showing how the distribution of values compared to an idealized guassian distribution. \n",
    "\n",
    "\n",
    "After box-cox transformation:\n",
    "* large fluctuation has been removed\n",
    "* histogram shows a flatter or more uniform distribution of values\n",
    "* plot is reasonable but not a perfect guassian distribution"
   ]
  },
  {
   "attachments": {
    "image.png": {
     "image/png": "[encoded data removed]"
    }
   },
   "cell_type": "markdown",
   "id": "ec7716c7",
   "metadata": {},
   "source": [
    "----------------------------------------------------------------------------------------------\n",
    "Before proceeding to test the ARIMA model with the transformed data, we must have\n",
    "a way to reverse the transform in order to convert predictions made with a model trained on\n",
    "the transformed data back into the original scale.\n",
    "\n",
    "![image.png](attachment:image.png)"
   ]
  },
  {
   "cell_type": "code",
   "execution_count": 31,
   "id": "1a1e2699",
   "metadata": {},
   "outputs": [],
   "source": [
    "#  invert box-cox\n",
    "\n",
    "from math import log\n",
    "from math import exp\n",
    "\n",
    "def boxcox_inverse(value, lam):\n",
    "    if lam == 0:\n",
    "        return exp(value)\n",
    "    return exp(log(lam * value +1) / lam)"
   ]
  },
  {
   "cell_type": "code",
   "execution_count": 38,
   "id": "620b4660",
   "metadata": {},
   "outputs": [
    {
     "name": "stdout",
     "output_type": "stream",
     "text": [
      ">Predicted=178.196, Expected=178.000\n",
      ">Predicted=179.316, Expected=136.000\n",
      ">Predicted=145.460, Expected=161.000\n",
      ">Predicted=165.568, Expected=171.000\n",
      ">Predicted=166.483, Expected=149.000\n",
      ">Predicted=152.065, Expected=184.000\n",
      ">Predicted=179.561, Expected=155.000\n",
      ">Predicted=155.211, Expected=276.000\n",
      ">Predicted=238.977, Expected=224.000\n",
      ">Predicted=210.753, Expected=213.000\n",
      ">Predicted=214.075, Expected=279.000\n",
      ">Predicted=257.447, Expected=268.000\n",
      ">Predicted=255.413, Expected=287.000\n"
     ]
    },
    {
     "name": "stderr",
     "output_type": "stream",
     "text": [
      "C:\\Users\\kajal\\Anaconda3\\lib\\site-packages\\numpy\\core\\_methods.py:233: RuntimeWarning: overflow encountered in multiply\n",
      "  x = um.multiply(x, x, out=x)\n",
      "C:\\Users\\kajal\\Anaconda3\\lib\\site-packages\\numpy\\core\\_methods.py:244: RuntimeWarning: overflow encountered in reduce\n",
      "  ret = umr_sum(x, axis, dtype, out, keepdims=keepdims, where=where)\n"
     ]
    },
    {
     "name": "stdout",
     "output_type": "stream",
     "text": [
      ">Predicted=275.941, Expected=238.000\n",
      ">Predicted=245.091, Expected=213.000\n",
      ">Predicted=226.699, Expected=257.000\n",
      ">Predicted=252.344, Expected=293.000\n",
      ">Predicted=275.302, Expected=212.000\n",
      ">Predicted=224.656, Expected=246.000\n",
      ">Predicted=248.227, Expected=353.000\n",
      ">Predicted=313.577, Expected=339.000\n",
      ">Predicted=312.855, Expected=308.000\n",
      ">Predicted=305.388, Expected=247.000\n",
      ">Predicted=263.453, Expected=257.000\n",
      ">Predicted=268.874, Expected=322.000\n",
      ">Predicted=307.069, Expected=298.000\n",
      ">Predicted=290.762, Expected=273.000\n",
      ">Predicted=279.628, Expected=312.000\n",
      ">Predicted=305.832, Expected=249.000\n",
      ">Predicted=259.479, Expected=286.000\n",
      ">Predicted=288.086, Expected=279.000\n",
      ">Predicted=277.060, Expected=309.000\n",
      ">Predicted=300.444, Expected=401.000\n",
      ">Predicted=361.789, Expected=309.000\n",
      ">Predicted=307.486, Expected=328.000\n",
      ">Predicted=330.341, Expected=353.000\n",
      ">Predicted=342.084, Expected=354.000\n",
      ">Predicted=346.257, Expected=327.000\n",
      ">Predicted=330.891, Expected=324.000\n",
      ">Predicted=329.470, Expected=285.000\n",
      ">Predicted=299.526, Expected=243.000\n",
      ">Predicted=266.152, Expected=241.000\n",
      ">Predicted=257.654, Expected=287.000\n",
      ">Predicted=283.369, Expected=355.000\n",
      ">Predicted=326.799, Expected=460.000\n",
      ">Predicted=403.844, Expected=364.000\n",
      ">Predicted=347.028, Expected=487.000\n",
      ">Predicted=452.365, Expected=452.000\n",
      ">Predicted=429.900, Expected=391.000\n",
      ">Predicted=401.393, Expected=500.000\n",
      ">Predicted=476.461, Expected=451.000\n",
      ">Predicted=442.454, Expected=375.000\n",
      ">Predicted=397.525, Expected=372.000\n",
      ">Predicted=390.647, Expected=302.000\n",
      ">Predicted=329.393, Expected=316.000\n",
      ">Predicted=334.171, Expected=398.000\n",
      ">Predicted=382.819, Expected=394.000\n",
      ">Predicted=378.508, Expected=431.000\n",
      ">Predicted=413.525, Expected=431.000\n",
      "RMSE= 51.358\n"
     ]
    }
   ],
   "source": [
    "#  re-evaluate the ARIMA(0,1,2) \n",
    "#  1st transform the data prior to fitting the model and then inverting the tranformation on the prediction before storing\n",
    "#  sometimes, the box-cox failed and gives the transformation lambda value < -5. Thus,, by convention lambda values rae evaluated between -5 to 5\n",
    "#  thus if -5 < lam < 5, them lam =1 to be considered. Am lam =1 has no effect on the transformation. \n",
    "\n",
    "X = series.values\n",
    "X = X.astype('float32')\n",
    "train_size = int(len(X) * 0.50)\n",
    "train, test = X[0:train_size], X[train_size:]\n",
    "\n",
    "history = [x for x in train]\n",
    "predictions = list()\n",
    "\n",
    "for i in range(len(test)):\n",
    "    transformed, lam = boxcox(history)\n",
    "    if lam< -5:\n",
    "        transformed, lam = history, 1\n",
    "    model = ARIMA(transformed, order = (0,1,2))\n",
    "    model_fit = model.fit()\n",
    "    yhat = model_fit.forecast()[0]\n",
    "    # inverse boxcox\n",
    "    yhat = boxcox_inverse(yhat, lam)\n",
    "    predictions.append(yhat)\n",
    "    \n",
    "    #observation\n",
    "    obs=test[i]\n",
    "    history.append(obs)\n",
    "    print('>Predicted=%.3f, Expected=%.3f' % (yhat, obs))\n",
    "    \n",
    "rmse = sqrt(mean_squared_error(test, predictions))\n",
    "print('RMSE= %.3f' % rmse)\n",
    "    \n",
    "    "
   ]
  },
  {
   "cell_type": "markdown",
   "id": "fa48c725",
   "metadata": {},
   "source": [
    "Final step: \n",
    "1. Finalize the model\n",
    "2. Make prediction\n",
    "3. Vaidate model"
   ]
  },
  {
   "cell_type": "code",
   "execution_count": 48,
   "id": "b90b6e1a",
   "metadata": {},
   "outputs": [],
   "source": [
    "# finalize model and save to file with workaround\n",
    "from pandas import read_csv\n",
    "from statsmodels.tsa.arima.model import ARIMA\n",
    "from scipy.stats import boxcox\n",
    "import numpy\n",
    "# monkey patch around bug in ARIMA class\n",
    "def __getnewargs__(self):\n",
    "    return ((self.endog),(self.k_diff, self.k_ma))\n",
    "\n",
    "ARIMA.__getnewargs__ = __getnewargs__\n",
    "\n",
    "# load data\n",
    "series = read_csv(r'dataset.csv', header=0, index_col=0, parse_dates=True, squeeze=True)\n",
    "\n",
    "# prepare data\n",
    "X = series.values\n",
    "X = X.astype('float32')\n",
    "\n",
    "# transform data\n",
    "transformed, lam = boxcox(X)\n",
    "\n",
    "# fit model\n",
    "model = ARIMA(transformed, order=(0,1,2))\n",
    "model_fit = model.fit()\n",
    "\n",
    "# save model\n",
    "model_fit.save('model.pkl')\n",
    "numpy.save('model_lambda.npy', [lam])"
   ]
  },
  {
   "cell_type": "markdown",
   "id": "08d6fb74",
   "metadata": {},
   "source": [
    "* model.pkl This is the ARIMAResult object from the call to ARIMA.fit(). This includes the coeffcients and all other internal data returned when fitting the model.\n",
    "\n",
    "* model lambda.npy This is the lambda value stored as a one-row, one-column NumPy array."
   ]
  },
  {
   "cell_type": "code",
   "execution_count": 49,
   "id": "229b67d4",
   "metadata": {},
   "outputs": [
    {
     "name": "stdout",
     "output_type": "stream",
     "text": [
      "Predicted: 452.580\n"
     ]
    }
   ],
   "source": [
    "# load the finalized model and make a prediction\n",
    "from statsmodels.tsa.arima.model import ARIMAResults\n",
    "from math import exp\n",
    "from math import log\n",
    "import numpy\n",
    "# invert box-cox transform\n",
    "def boxcox_inverse(value, lam):\n",
    "    if lam == 0:\n",
    "        return exp(value)\n",
    "    return exp(log(lam * value + 1) / lam)\n",
    "model_fit = ARIMAResults.load('model.pkl')\n",
    "lam = numpy.load('model_lambda.npy')\n",
    "yhat = model_fit.forecast()[0]\n",
    "yhat = boxcox_inverse(yhat, lam)\n",
    "print('Predicted: %.3f' % yhat)"
   ]
  },
  {
   "cell_type": "markdown",
   "id": "353b4ef7",
   "metadata": {},
   "source": [
    "we saved the final 12 months of the original dataset in a separate file to validate the final model."
   ]
  },
  {
   "cell_type": "code",
   "execution_count": 53,
   "id": "39b2bd4a",
   "metadata": {},
   "outputs": [
    {
     "name": "stdout",
     "output_type": "stream",
     "text": [
      ">Predicted=452.580, Expected=452.000\n",
      ">Predicted=429.900, Expected=391.000\n",
      ">Predicted=401.393, Expected=500.000\n",
      ">Predicted=476.461, Expected=451.000\n",
      ">Predicted=442.454, Expected=375.000\n",
      ">Predicted=397.525, Expected=372.000\n",
      ">Predicted=390.647, Expected=302.000\n",
      ">Predicted=329.393, Expected=316.000\n",
      ">Predicted=334.171, Expected=398.000\n",
      ">Predicted=382.819, Expected=394.000\n",
      ">Predicted=378.508, Expected=431.000\n",
      ">Predicted=413.525, Expected=431.000\n",
      "RMSE: 51.949\n"
     ]
    },
    {
     "data": {
      "image/png": "[encoded data removed]",
      "text/plain": [
       "<Figure size 432x288 with 1 Axes>"
      ]
     },
     "metadata": {
      "needs_background": "light"
     },
     "output_type": "display_data"
    }
   ],
   "source": [
    "# evaluate the finalized model on the validation dataset\n",
    "from pandas import read_csv\n",
    "from matplotlib import pyplot\n",
    "from statsmodels.tsa.arima.model import ARIMA\n",
    "from statsmodels.tsa.arima.model import ARIMAResults\n",
    "from scipy.stats import boxcox\n",
    "from sklearn.metrics import mean_squared_error\n",
    "from math import sqrt\n",
    "from math import exp\n",
    "from math import log\n",
    "import numpy\n",
    "# invert box-cox transform\n",
    "def boxcox_inverse(value, lam):\n",
    "    if lam == 0:\n",
    "        return exp(value)\n",
    "    return exp(log(lam * value + 1) / lam)\n",
    "\n",
    "# load and prepare datasets\n",
    "dataset = read_csv('dataset.csv', header=None, index_col=0, parse_dates=True, squeeze=True)\n",
    "X = dataset.values.astype('float32')\n",
    "history = [x for x in X]\n",
    "validation = read_csv('validation.csv', header=None, index_col=0, parse_dates=True, squeeze=True)\n",
    "y = validation.values.astype('float32')\n",
    "\n",
    "# load model\n",
    "model_fit = ARIMAResults.load('model.pkl')\n",
    "lam = numpy.load('model_lambda.npy')\n",
    "\n",
    "# make first prediction\n",
    "predictions = list()\n",
    "yhat = model_fit.forecast()[0]\n",
    "yhat = boxcox_inverse(yhat, lam)\n",
    "predictions.append(yhat)\n",
    "history.append(y[0])\n",
    "print('>Predicted=%.3f, Expected=%.3f' % (yhat, y[0]))\n",
    "\n",
    "# rolling forecasts\n",
    "for i in range(1, len(y)):\n",
    "# transform\n",
    "    transformed, lam = boxcox(history)\n",
    "    if lam < -5:\n",
    "        transformed, lam = history, 1\n",
    "    # predict\n",
    "    model = ARIMA(transformed, order=(0,1,2))\n",
    "    model_fit = model.fit()\n",
    "    yhat = model_fit.forecast()[0]\n",
    "    # invert transformed prediction\n",
    "    yhat = boxcox_inverse(yhat, lam)\n",
    "    predictions.append(yhat)\n",
    "    # observation\n",
    "    obs = y[i]\n",
    "    history.append(obs)\n",
    "    print('>Predicted=%.3f, Expected=%.3f' % (yhat, obs))\n",
    "    \n",
    "# report performance\n",
    "rmse = sqrt(mean_squared_error(y, predictions))\n",
    "print('RMSE: %.3f' % rmse)\n",
    "pyplot.plot(y)\n",
    "pyplot.plot(predictions, color='red')\n",
    "pyplot.show()"
   ]
  },
  {
   "cell_type": "code",
   "execution_count": null,
   "id": "6e76ae35",
   "metadata": {},
   "outputs": [],
   "source": []
  }
 ],
 "metadata": {
  "kernelspec": {
   "display_name": "Python 3 (ipykernel)",
   "language": "python",
   "name": "python3"
  },
  "language_info": {
   "codemirror_mode": {
    "name": "ipython",
    "version": 3
   },
   "file_extension": ".py",
   "mimetype": "text/x-python",
   "name": "python",
   "nbconvert_exporter": "python",
   "pygments_lexer": "ipython3",
   "version": "3.9.7"
  }
 },
 "nbformat": 4,
 "nbformat_minor": 5
}
